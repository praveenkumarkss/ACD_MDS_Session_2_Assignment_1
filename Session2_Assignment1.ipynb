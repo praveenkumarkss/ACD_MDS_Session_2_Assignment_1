{
 "cells": [
  {
   "cell_type": "code",
   "execution_count": null,
   "metadata": {},
   "outputs": [],
   "source": [
    "#Session 2: Assignment 1\n",
    "#Task 1.1\n",
    "#Write a Python Program to implement your own myreduce() function which works exactly like Python's built-in function reduce()\n",
    "\n",
    "# Reduce(f,data)\n",
    "# Step 1: val1= f(a1,a2) \n",
    "# Step 2: val2= f(val1,a3) \n",
    "# Step 3: val3 = f(val2,a4) | |\n",
    "# Step n-1 : valn-1= f(valn-2,an) Return valn-1 \" \" \""
   ]
  },
  {
   "cell_type": "code",
   "execution_count": 7,
   "metadata": {},
   "outputs": [
    {
     "name": "stdout",
     "output_type": "stream",
     "text": [
      "Sum on list using myreduce function 30\n",
      "Multiplication on list using myreduce function 0\n",
      "Largest number on list using myreduce function 100\n",
      "Factorial of a number  on list using myreduce function 120\n",
      "Concatenation on list using myreduce function Hello I AM Python \n",
      "Concatenation on list using myreduce function Hello\tI\tAM\tPython\t\n",
      "Concatenation on list using myreduce function \n",
      "Hello\n",
      "I\n",
      "AM\n",
      "Python\n",
      "\n"
     ]
    }
   ],
   "source": [
    "# Reduce will produce a single result\n",
    "def myreduce(func, data):\n",
    "\n",
    " # Get first item in sequence and assign to result\n",
    "  result = data[0]\n",
    " # iterate over remaining items in sequence and apply reduction function \n",
    "  for item in data[1:]:\n",
    "   result = func(result, item)\n",
    "\n",
    "  return result\n",
    "\n",
    "list=[10,20,30,40,50,60,0,80,90,100]\n",
    "list1=range(1,6)\n",
    "print (\"Sum on list using myreduce function \"   + str(myreduce(lambda x,y:x+y, [10,20,0])) )\n",
    "print (\"Multiplication on list using myreduce function \"   + str(myreduce(lambda x,y:x*y,[4,2,0])))\n",
    "print (\"Largest number on list using myreduce function \"   + str(myreduce(lambda x,y:x if x>y else y,list)) )\n",
    "print (\"Factorial of a number  on list using myreduce function \"   + str(myreduce(lambda x,y:x*y,list1)))\n",
    "print (\"Concatenation on list using myreduce function \"   + str(myreduce(lambda x,y:x+y,[\"Hello \",\"I \",\"AM \",\"Python \"])) )\n",
    "print (\"Concatenation on list using myreduce function \"   + str(myreduce(lambda x,y:x+y,[\"Hello\\t\",\"I\\t\",\"AM\\t\",\"Python\\t\"])) )\n",
    "print (\"Concatenation on list using myreduce function \"   + str(myreduce(lambda x,y:x+y,[\"\\nHello\\n\",\"I\\n\",\"AM\\n\",\"Python\\n\"])) )\n",
    "\n",
    "    "
   ]
  },
  {
   "cell_type": "code",
   "execution_count": 9,
   "metadata": {},
   "outputs": [
    {
     "name": "stdout",
     "output_type": "stream",
     "text": [
      "Filter only positive Integers on list [0,1,-2,3,4,5] using custom filter function[1, 3, 4, 5]\n",
      "Filter only Even Integers on list using custom filter function[0, 2, 4, 6, 8]\n",
      "Filter only Odd Integers on list using custom filter function[1, 3, 5, 7, 9]\n"
     ]
    }
   ],
   "source": [
    "#Session 2: Assignment 1\n",
    "#Task 1.2\n",
    "# Write a Python program to implement your own myfilter() function which works exactly like Python's built-in function filter()\n",
    "# Custom filter function \n",
    "\n",
    "def myfilter(anyfunc, sequence):\n",
    "\n",
    " # Initialize empty list\n",
    " result = []\n",
    " # iterate over sequence of items in sequence and apply filter function\n",
    " for item in sequence:\n",
    "  if anyfunc(item):\n",
    "   result.append(item)\n",
    "\n",
    " # return funal output\n",
    " return result\n",
    "# test myfilter function\n",
    "def ispositive(x):\n",
    " if (x <= 0): \n",
    "  return False \n",
    " else: \n",
    "  return True\n",
    "list=range(10)\n",
    "print (\"Filter only positive Integers on list [0,1,-2,3,4,5] using custom filter function\"  + str(myfilter(ispositive, [0,1,-2,3,4,5])))\n",
    "print (\"Filter only Even Integers on list using custom filter function\"  + str(myfilter(lambda x:x%2==0 , list)))\n",
    "print (\"Filter only Odd Integers on list using custom filter function\"  + str(myfilter(lambda x:x%2==1 , list)))\n"
   ]
  },
  {
   "cell_type": "code",
   "execution_count": null,
   "metadata": {},
   "outputs": [],
   "source": [
    "#Session 2: Assignment 1\n",
    "#Task 1\n",
    "#Implement List comprehensions to produce the following lists.\n",
    "#Write List comprehensions to produce the following Lists\n",
    "#['A', 'C', 'A', 'D', 'G', 'I', ’L’, ‘ D’]\n",
    "#['x', 'xx', 'xxx', 'xxxx', 'y', 'yy', 'yyy', 'yyyy', 'z', 'zz', 'zzz', 'zzzz']\n",
    "#['x', 'y', 'z', 'xx', 'yy', 'zz', 'xx', 'yy', 'zz', 'xxxx', 'yyyy', 'zzzz']\n",
    "#[[2], [3], [4], [3], [4], [5], [4], [5], [6]]\n",
    "#[[2, 3, 4, 5], [3, 4, 5, 6], [4, 5, 6, 7], [5, 6, 7, 8]]\n",
    "#[(1, 1), (2, 1), (3, 1), (1, 2), (2, 2), (3, 2), (1, 3), (2, 3), (3, 3)]"
   ]
  },
  {
   "cell_type": "code",
   "execution_count": 17,
   "metadata": {},
   "outputs": [
    {
     "name": "stdout",
     "output_type": "stream",
     "text": [
      "[ACADGILD] ------ >['A', 'C', 'A', 'D', 'G', 'I', 'L', 'D']\n"
     ]
    }
   ],
   "source": [
    "#['A', 'C', 'A', 'D', 'G', 'I', ’L’, ‘ D’]\n",
    "#A new list is assigned to variable li , and list contains the items of the iterable string 'ACADGILD'. \n",
    "newlist=[li for li in 'ACADGILD']\n",
    "print(\"[ACADGILD] ------ >\" + str(newlist))"
   ]
  },
  {
   "cell_type": "code",
   "execution_count": 12,
   "metadata": {},
   "outputs": [
    {
     "name": "stdout",
     "output_type": "stream",
     "text": [
      "['x','y','z'] => ['x', 'xx', 'xxx', 'xxxx', 'y', 'yy', 'yyy', 'yyyy', 'z', 'zz', 'zzz', 'zzzz']\n"
     ]
    }
   ],
   "source": [
    "#['x', 'xx', 'xxx', 'xxxx', 'y', 'yy', 'yyy', 'yyyy', 'z', 'zz', 'zzz', 'zzzz']\n",
    "input_list = ['x','y','z']\n",
    "result = [ item*num for item in input_list for num in range(1,5)  ]\n",
    "print(\"['x','y','z'] -------> \" +   str(result))\n"
   ]
  },
  {
   "cell_type": "code",
   "execution_count": 43,
   "metadata": {},
   "outputs": [
    {
     "name": "stdout",
     "output_type": "stream",
     "text": [
      "['x','y','z'] -------- >['x', 'y', 'z', 'xx', 'yy', 'zz', 'xxx', 'yyy', 'zzz', 'xxxx', 'yyyy', 'zzzz']\n"
     ]
    }
   ],
   "source": [
    "#['x', 'y', 'z', 'xx', 'yy', 'zz', 'xx', 'yy', 'zz', 'xxxx', 'yyyy', 'zzzz']\n",
    "input_list = ['x','y','z']\n",
    "result = [ item*num for num in range(1,5) for item in input_list  ]\n",
    "print(\"['x','y','z'] -------- >\" +   str(result))"
   ]
  },
  {
   "cell_type": "code",
   "execution_count": 51,
   "metadata": {},
   "outputs": [
    {
     "name": "stdout",
     "output_type": "stream",
     "text": [
      "[2,3,4] =>[[2], [3], [4], [3], [4], [5], [4], [5], [6]]\n"
     ]
    }
   ],
   "source": [
    "#[[2], [3], [4], [3], [4], [5], [4], [5], [6]]\n",
    "input_list = [2,3,4]\n",
    "result = [ [item+num] for item in input_list for num in range(0,3)]\n",
    "print(\"[2,3,4] -------------> \" +  str(result))\n"
   ]
  },
  {
   "cell_type": "code",
   "execution_count": 52,
   "metadata": {},
   "outputs": [
    {
     "name": "stdout",
     "output_type": "stream",
     "text": [
      "[2,3,4,5] --------->[[2, 3, 4, 5], [3, 4, 5, 6], [4, 5, 6, 7], [5, 6, 7, 8]]\n"
     ]
    }
   ],
   "source": [
    "#[[2, 3, 4, 5], [3, 4, 5, 6], [4, 5, 6, 7], [5, 6, 7, 8]]\n",
    "input_list = [2,3,4,5]\n",
    "result = [ [item+num for item in input_list] for num in range(0,4)  ]\n",
    "print(\"[2,3,4,5] --------->\" +  str(result))"
   ]
  },
  {
   "cell_type": "code",
   "execution_count": 53,
   "metadata": {},
   "outputs": [
    {
     "name": "stdout",
     "output_type": "stream",
     "text": [
      "[1,2,3] ----------------->[(1, 1), (2, 1), (3, 1), (1, 2), (2, 2), (3, 2), (1, 3), (2, 3), (3, 3)]\n"
     ]
    }
   ],
   "source": [
    "#[(1, 1), (2, 1), (3, 1), (1, 2), (2, 2), (3, 2), (1, 3), (2, 3), (3, 3)]\n",
    "input_list=[1,2,3]\n",
    "result = [ (b,a) for a in input_list for b in input_list]\n",
    "print(\"[1,2,3] ----------------->\" +  str(result))"
   ]
  },
  {
   "cell_type": "code",
   "execution_count": 54,
   "metadata": {},
   "outputs": [
    {
     "name": "stdout",
     "output_type": "stream",
     "text": [
      "Machine Learning\n"
     ]
    }
   ],
   "source": [
    "##Session 2: Assignment 1\n",
    "#Task 1\n",
    "#3. Implement a function longestWord() that takes a list of words and returns the longest one.\n",
    "\n",
    "def find_longest_word(words_list):\n",
    "    word_len = []\n",
    "    for n in words_list:\n",
    "        word_len.append((len(n), n))\n",
    "    word_len.sort()\n",
    "    return word_len[-1][1]\n",
    "\n",
    "print(find_longest_word([\"Python\", \"Exercises\", \"Machine Learning\"]))"
   ]
  },
  {
   "cell_type": "code",
   "execution_count": 57,
   "metadata": {},
   "outputs": [
    {
     "name": "stdout",
     "output_type": "stream",
     "text": [
      "Enter the value of a = 3\n",
      "Enter the value of b = 5\n",
      "Enter the value of c = 4\n",
      "The Sides of the traingle are \n",
      "\n",
      "Side 1 is 3.0\n",
      "Side 2 is 5.0\n",
      "Side 3 is 4.0\n",
      "The area of the triangle is 6.00\n"
     ]
    }
   ],
   "source": [
    "##Session 2: Assignment 1\n",
    "#Task 2 \n",
    "#1.1\n",
    "# Write a Python Program(with class concepts) to find the area of the triangle using the below formula.\n",
    "# area = (s*(s-a)*(s-b)*(s-c)) ** 0.5\n",
    "# Function to take the length of the sides of triangle from user should be defined in the parent class and\n",
    "# function to calculate the area should be defined in subclass.\n",
    "\n",
    "class Polygon:\n",
    "    def __init__(self, no_of_sides):\n",
    "        self.n = no_of_sides\n",
    "        self.sides = [0 for i in range(no_of_sides)]\n",
    "\n",
    "    def inputSides(self):\n",
    "        #self.sides = [float(input(\"Enter side \"+str(i+1)+\" : \")) for i in range(self.n)]\n",
    "        self.a=float(input(\"Enter the value of a = \"))\n",
    "        self.b=float(input(\"Enter the value of b = \"))\n",
    "        self.c=float(input(\"Enter the value of c = \"))\n",
    "\n",
    "\n",
    "    def dispSides(self):\n",
    "        print(\"The Sides of the traingle are \\n\")\n",
    "        print(\"Side\",1,\"is\",self.a)\n",
    "        print(\"Side\",2,\"is\",self.b)\n",
    "        print(\"Side\",3,\"is\",self.c)\n",
    "            \n",
    "            \n",
    "class Triangle(Polygon):\n",
    "    def __init__(self):\n",
    "        Polygon.__init__(self,3)\n",
    "\n",
    "    def findArea(self):\n",
    "        a = self.a\n",
    "        b = self.b\n",
    "        c = self.c\n",
    "        # calculate the semi-perimeter\n",
    "        s = (a + b + c) / 2\n",
    "        area = (s*(s-a)*(s-b)*(s-c)) ** 0.5\n",
    "        print('The area of the triangle is %0.2f' %area)\n",
    "t=Triangle()\n",
    "t.inputSides()\n",
    "t.dispSides()\n",
    "t.findArea()"
   ]
  },
  {
   "cell_type": "code",
   "execution_count": 82,
   "metadata": {},
   "outputs": [
    {
     "name": "stdout",
     "output_type": "stream",
     "text": [
      "Please input the list of words: Python,Machine Learning , Deep Learning\n",
      "Enter the value of integer:7\n",
      "List of words greater than the integer is: ['Machine Learning ', ' Deep Learning']\n"
     ]
    }
   ],
   "source": [
    "##Session 2: Assignment 1\n",
    "#Task 2 \n",
    "#1.2\n",
    "#Write a function filter_long_words() that takes a list of words and an integer n and returns the list of words that are longer than n.\n",
    "\n",
    "def filter_long_words(lis,number):\n",
    "    words=[]\n",
    "    for i in lis:\n",
    "        if(len(i)>=number):\n",
    "            words.append(i)\n",
    "    return words\n",
    "\n",
    "n=input(\"Please input the list of words: \").split(\",\")\n",
    "integer=input(\"Enter the value of integer:\")\n",
    "long=filter_long_words(n,int(integer))\n",
    "\n",
    "print(\"List of words greater than the integer is:\",long)\n"
   ]
  },
  {
   "cell_type": "code",
   "execution_count": 127,
   "metadata": {},
   "outputs": [
    {
     "name": "stdout",
     "output_type": "stream",
     "text": [
      "Please input the list of words: Python,Machine Learning , Deep Learning\n",
      "The words entered  in to the list ['Python', 'Machine Learning ', ' Deep Learning']\n",
      "The lengths of the words in list are [6, 17, 14]\n"
     ]
    }
   ],
   "source": [
    "##Session 2: Assignment 1\n",
    "#Task 2 \n",
    "#2.1 \n",
    "# Write a Python program using function concept that maps list of words into a list of integers representing the lengths of the corresponding words .\n",
    "#Hint: If a list [ ab,cde,erty] is passed on to the python function output should come as [2,3,4]\n",
    "# Here 2,3 and 4 are the lengths of the words in the list.\n",
    "\n",
    "\n",
    "def map_to_lengths(mylist):\n",
    "    return [len(mylist) for mylist in mylist]\n",
    "\n",
    "mylist=input(\"Please input the list of words: \").split(\",\")\n",
    "print(\"The words entered  in to the list\",mylist)\n",
    "print(\"The lengths of the words in list are\",map_to_lengths(mylist))\n",
    "\n"
   ]
  },
  {
   "cell_type": "code",
   "execution_count": 137,
   "metadata": {},
   "outputs": [
    {
     "name": "stdout",
     "output_type": "stream",
     "text": [
      "Enter the string to check\n",
      "f\n",
      "The enterted character is not Vowel\n"
     ]
    }
   ],
   "source": [
    "##Session 2: Assignment 1\n",
    "#Task 2 \n",
    "#2.2\n",
    "#Write a Python function which takes a character (i.e. a string of length 1) and returns True if it is a vowel, False otherwise.\n",
    "\n",
    "def vowelChecker (inputChar):\n",
    " \n",
    " \"\"\" Function to check whether a char is vowel or not \"\"\"\n",
    " \n",
    " if (inputChar == \"a\" or inputChar == \"A\" or inputChar == \"e\" or inputChar == \"E\" or inputChar == \"i\" or inputChar == \"I\" or\n",
    "     inputChar == \"o\" or inputChar == \"O\" or inputChar == \"u\" or inputChar == \"U\"):\n",
    "        return \"True\"\n",
    " else:\n",
    "        return \"False\"\n",
    " \n",
    "print (\"Enter the string to check\")\n",
    "inputChar = input()\n",
    " \n",
    "if vowelChecker(inputChar) == \"True\":\n",
    " print(\"The enterted character is  Vowel\")\n",
    "else:\n",
    " print(\"The enterted character is not Vowel\")\n"
   ]
  },
  {
   "cell_type": "code",
   "execution_count": null,
   "metadata": {},
   "outputs": [],
   "source": []
  }
 ],
 "metadata": {
  "kernelspec": {
   "display_name": "Python 3",
   "language": "python",
   "name": "python3"
  },
  "language_info": {
   "codemirror_mode": {
    "name": "ipython",
    "version": 3
   },
   "file_extension": ".py",
   "mimetype": "text/x-python",
   "name": "python",
   "nbconvert_exporter": "python",
   "pygments_lexer": "ipython3",
   "version": "3.6.5"
  }
 },
 "nbformat": 4,
 "nbformat_minor": 2
}
